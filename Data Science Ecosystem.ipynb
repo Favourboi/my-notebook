{
 "cells": [
  {
   "cell_type": "markdown",
   "id": "0b763009",
   "metadata": {},
   "source": [
    "# Data Science Tools and Ecosystem"
   ]
  },
  {
   "cell_type": "markdown",
   "id": "045ab40d",
   "metadata": {},
   "source": [
    "In this notebook, Data Science Tools and Ecosystem are summarized."
   ]
  },
  {
   "cell_type": "markdown",
   "id": "e4365831",
   "metadata": {},
   "source": [
    "**Objectives:**\n",
    "\n",
    "- List popular languages for Data Science.\n",
    "- Introduce commonly used libraries in Data Science.\n",
    "- Demonstrate basic arithmetic expressions in Python.\n",
    "- Convert units of time (e.g., minutes to hours) using Python.\n",
    "- Understand open-source tools used in Data Science.\n"
   ]
  },
  {
   "cell_type": "markdown",
   "id": "74983a51",
   "metadata": {},
   "source": [
    "**Some of the popular languages that Data Scientists use are:**\n",
    "1. R\n",
    "2. Python\n",
    "3. SQL"
   ]
  },
  {
   "cell_type": "markdown",
   "id": "7d6403bc",
   "metadata": {},
   "source": [
    "**Some of the commonly used libraries used by Data Scientists include:**\n",
    "1. Numpy\n",
    "2. Tidyverse\n",
    "3. ggplot"
   ]
  },
  {
   "cell_type": "markdown",
   "id": "5eab8b61",
   "metadata": {},
   "source": [
    "## Data Science Tools\n",
    "\n",
    "| Data Science Tools       |\n",
    "|--------------------------|\n",
    "| Jupyter Notebook         |\n",
    "| RStudio                  |\n",
    "| Apache Zeppelin          |\n"
   ]
  },
  {
   "cell_type": "markdown",
   "id": "e67deaa8",
   "metadata": {},
   "source": [
    "### Below are a few examples of evaluating arithmetic expressions in Python\n",
    "\n",
    "1. **Addition:** `5 + 3 = 8`\n",
    "2. **Subtraction:** `10 - 4 = 6`\n",
    "3. **Multiplication:** `7 * 2 = 14`\n",
    "4. **Division:** `16 / 4 = 4.0`\n",
    "5. **Exponentiation:** `3 ** 2 = 9`\n",
    "6. **Modulo (Remainder):** `10 % 3 = 1`\n"
   ]
  },
  {
   "cell_type": "code",
   "execution_count": 2,
   "id": "f6e7c462",
   "metadata": {},
   "outputs": [
    {
     "data": {
      "text/plain": [
       "17"
      ]
     },
     "execution_count": 2,
     "metadata": {},
     "output_type": "execute_result"
    }
   ],
   "source": [
    "#This is a simple arithmetic expression to mutiply then add integers.\n",
    "(3*4)+5"
   ]
  },
  {
   "cell_type": "code",
   "execution_count": 3,
   "id": "bd547f91",
   "metadata": {},
   "outputs": [
    {
     "data": {
      "text/plain": [
       "3.3333333333333335"
      ]
     },
     "execution_count": 3,
     "metadata": {},
     "output_type": "execute_result"
    }
   ],
   "source": [
    "# This will convert 200 minutes to hours by dividing by 60\n",
    "hours = 200 / 60\n",
    "hours"
   ]
  },
  {
   "cell_type": "markdown",
   "id": "cff68526",
   "metadata": {},
   "source": [
    "## Author\n",
    "\n",
    "Favour Ugorji\n"
   ]
  },
  {
   "cell_type": "code",
   "execution_count": null,
   "id": "61e30907",
   "metadata": {},
   "outputs": [],
   "source": []
  }
 ],
 "metadata": {
  "kernelspec": {
   "display_name": "Python 3 (ipykernel)",
   "language": "python",
   "name": "python3"
  },
  "language_info": {
   "codemirror_mode": {
    "name": "ipython",
    "version": 3
   },
   "file_extension": ".py",
   "mimetype": "text/x-python",
   "name": "python",
   "nbconvert_exporter": "python",
   "pygments_lexer": "ipython3",
   "version": "3.9.13"
  }
 },
 "nbformat": 4,
 "nbformat_minor": 5
}
